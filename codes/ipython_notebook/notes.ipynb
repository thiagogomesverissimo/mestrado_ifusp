{
 "metadata": {
  "name": "notes"
 },
 "nbformat": 3,
 "nbformat_minor": 0,
 "worksheets": [
  {
   "cells": [
    {
     "cell_type": "code",
     "collapsed": false,
     "input": [
      "import numpy\n",
      "from numpy.linalg import solve\n",
      "import matplotlib.pyplot as plt"
     ],
     "language": "python",
     "metadata": {},
     "outputs": [],
     "prompt_number": 2
    },
    {
     "cell_type": "code",
     "collapsed": false,
     "input": [
      "#A generic example to understanding numpy.polyfit function\n",
      "xi=numpy.array([-1.,0.,1.,2.])\n",
      "yi=numpy.array([5.,7.,3.,-1.])\n",
      "c = numpy.polyfit(x=xi,y=yi,deg=3)\n",
      "x = numpy.linspace(-10.,10.,200) \n",
      "#Polynomial coefficients, highest power first.\n",
      "y = c[3] + c[2]*x + c[1]*(x**2) + c[0]*(x**3)\n",
      "#Plotting the curve adjusted\n",
      "plt.figure(1)\n",
      "plt.clf()\n",
      "plt.ylim(yi.min()-2,yi.max()+2)\n",
      "plt.plot(x,y,'b-')\n",
      "#plot the points above curve adjusted\n",
      "plt.plot(xi,yi,'ro')\n",
      "plt.title('Experimental Points and Adjusted Curve')\n",
      "plt.show()\n",
      "#plt.savefig('example.png')"
     ],
     "language": "python",
     "metadata": {},
     "outputs": [
      {
       "output_type": "display_data",
       "png": "[encoded data removed]"
      }
     ],
     "prompt_number": 3
    },
    {
     "cell_type": "code",
     "collapsed": false,
     "input": [
      "#Read kline and put the data in a numpy.array\n",
      "#klinesfile = open(\"calibration/data/lineKmeasured.csv\",\"r\") \n",
      "klinesfile = open(\"calibration/data/linek.csv\",\"r\") \n",
      "klines = klinesfile.readlines()\n",
      "klinesfile.close()\n",
      "\n",
      "atomic_number = numpy.array([])\n",
      "\n",
      "#rf = responsive factor\n",
      "rf_measured = numpy.array([])\n",
      "rf_measured_error = numpy.array([])\n",
      "\n",
      "#Alter klines to a numpy.array\n",
      "klines = numpy.array(klines)\n",
      "lines = len(klines)\n",
      "\n",
      "for line in range(1,lines):\n",
      "    current_line = klines[line].split(',')\n",
      "    atomic_number = numpy.append(atomic_number,float(current_line[0]))\n",
      "    rf_measured = numpy.append(rf_measured,float(current_line[1]))\n",
      "    rf_measured_error = numpy.append(rf_measured_error,float(current_line[2]))\n",
      "    \n"
     ],
     "language": "python",
     "metadata": {},
     "outputs": [],
     "prompt_number": 4
    },
    {
     "cell_type": "code",
     "collapsed": false,
     "input": [
      "atomic_number[8:]"
     ],
     "language": "python",
     "metadata": {},
     "outputs": [
      {
       "output_type": "pyout",
       "prompt_number": 5,
       "text": [
        "array([ 22.,  23.,  24.,  25.,  26.,  27.,  28.,  29.,  32.,  34.,  35.,\n",
        "        37.,  38.,  39.,  41.,  42.])"
       ]
      }
     ],
     "prompt_number": 5
    },
    {
     "cell_type": "code",
     "collapsed": false,
     "input": [
      "#Split in two fits: part1) from atomic number 11 to 26; \n",
      "atomic_number1 = atomic_number[0:13]\n",
      "rf_measured1 = rf_measured[0:13]\n",
      "rf_measured_error1 = rf_measured_error[0:13]\n",
      "\n",
      "#part2) from 22 to end\n",
      "atomic_number2 = atomic_number[8:]\n",
      "rf_measured2 = rf_measured[8:]\n",
      "rf_measured_error2 = rf_measured_error[8:]"
     ],
     "language": "python",
     "metadata": {},
     "outputs": [],
     "prompt_number": 6
    },
    {
     "cell_type": "code",
     "collapsed": false,
     "input": [
      "coefk1 = numpy.polyfit(x=atomic_number1,y=rf_measured1,deg=3)\n",
      "x = numpy.linspace(11.,26.,200) \n",
      "#Polynomial coefficients, highest power first.\n",
      "y1 = coefk1[3] + coefk1[2]*x + coefk1[1]*(x**2) + coefk1[0]*(x**3)\n",
      "#Plotting the curve adjusted\n",
      "plt.figure(1)\n",
      "plt.clf()\n",
      "plt.xlim(8,45)\n",
      "plt.plot(x,y1,'b-')\n",
      "#plot the points above curve adjusted\n",
      "plt.plot(atomic_number,rf_measured,'ro')\n",
      "plt.errorbar(atomic_number,rf_measured,yerr=rf_measured_error,ecolor='g',fmt=None)\n",
      "plt.title('Linha K -  Z = 11 ate 26')\n",
      "plt.savefig('calib_klines1.png')"
     ],
     "language": "python",
     "metadata": {},
     "outputs": [
      {
       "output_type": "display_data",
       "png": "[encoded data removed]"
      }
     ],
     "prompt_number": 7
    },
    {
     "cell_type": "code",
     "collapsed": false,
     "input": [
      "coefk2 = numpy.polyfit(x=atomic_number2,y=rf_measured2,deg=3,w=rf_measured_error2)\n",
      "x = numpy.linspace(22.,40.,200) \n",
      "#Polynomial coefficients, highest power first.\n",
      "y2 = coefk2[3] + coefk2[2]*x + coefk2[1]*(x**2) + coefk2[0]*(x**3)\n",
      "#Plotting the curve adjusted\n",
      "plt.figure(1)\n",
      "plt.clf()\n",
      "plt.xlim(8,45)\n",
      "plt.plot(x,y2,'b-',label='Data Points')\n",
      "#plot the points above curve adjusted\n",
      "plt.plot(atomic_number,rf_measured,'go')\n",
      "plt.title('Linha K - Z = 22 ate 42')\n",
      "plt.errorbar(atomic_number,rf_measured,yerr=rf_measured_error,ecolor='g',fmt=None)\n",
      "plt.savefig('calib_klines2.png')\n",
      "#plt.show()"
     ],
     "language": "python",
     "metadata": {},
     "outputs": [
      {
       "metadata": {},
       "output_type": "display_data",
       "png": "[encoded data removed]",
       "text": [
        "<matplotlib.figure.Figure at 0x7f4fc1ee3210>"
       ]
      }
     ],
     "prompt_number": 7
    },
    {
     "cell_type": "code",
     "collapsed": false,
     "input": [
      "#numpy.polyfit(x=atomic_number1,y=rf_measured1,w=rf_measured_error1,deg=3,cov=True)"
     ],
     "language": "python",
     "metadata": {},
     "outputs": [],
     "prompt_number": 8
    },
    {
     "cell_type": "code",
     "collapsed": false,
     "input": [
      "#Read L-line and put the data in a numpy.array\n",
      "#fileL = open(\"calibration/data/lineLmeasured.csv\",\"r\") \n",
      "fileL = open(\"calibration/data/linel.csv\",\"r\") \n",
      "linesL = fileL.readlines()\n",
      "fileL.close()\n",
      "\n",
      "atomic_numberL = numpy.array([])\n",
      "\n",
      "#rf = responsive factor\n",
      "rf_measuredL = numpy.array([])\n",
      "rf_measured_errorL = numpy.array([])\n",
      "\n",
      "#Alter L lines to a numpy.array\n",
      "linesL = numpy.array(linesL)\n",
      "number_lines = len(linesL)\n",
      "\n",
      "for line in range(1,number_lines):\n",
      "    current_line = linesL[line].split(',')\n",
      "    atomic_numberL = numpy.append(atomic_numberL,float(current_line[0]))\n",
      "    rf_measuredL = numpy.append(rf_measuredL,float(current_line[1]))\n",
      "    rf_measured_errorL = numpy.append(rf_measured_errorL,float(current_line[2]))\n",
      "    "
     ],
     "language": "python",
     "metadata": {},
     "outputs": [],
     "prompt_number": 9
    },
    {
     "cell_type": "code",
     "collapsed": false,
     "input": [
      "coefL = numpy.polyfit(x=atomic_numberL,y=rf_measuredL,deg=5)\n",
      "x = numpy.linspace(atomic_numberL.min(),atomic_numberL.max()+2,200) \n",
      "#Here, I am testing a new way that allow me \n",
      "y = numpy.poly1d(coefL)\n",
      "#Plotting the curve adjusted\n",
      "plt.figure(1)\n",
      "plt.clf()\n",
      "plt.xlim(atomic_numberL.min()-2,atomic_numberL.max()+2)\n",
      "plt.plot(x,y(x),'b-')\n",
      "#plot the points above curve adjusted\n",
      "plt.plot(atomic_numberL,rf_measuredL,'go')\n",
      "plt.title('Linha L')\n",
      "plt.errorbar(atomic_numberL,rf_measuredL,yerr=rf_measured_errorL,ecolor='g',fmt=None)\n",
      "plt.savefig('calib_linesL.png')\n",
      "#plt.show()"
     ],
     "language": "python",
     "metadata": {},
     "outputs": [
      {
       "metadata": {},
       "output_type": "display_data",
       "png": "[encoded data removed]",
       "text": [
        "<matplotlib.figure.Figure at 0x7f4fc0ed5590>"
       ]
      }
     ],
     "prompt_number": 10
    },
    {
     "cell_type": "code",
     "collapsed": false,
     "input": [
      "coefL"
     ],
     "language": "python",
     "metadata": {},
     "outputs": [
      {
       "metadata": {},
       "output_type": "pyout",
       "prompt_number": 11,
       "text": [
        "array([ -1.55520032e-08,   5.16472704e-06,  -6.81044745e-04,\n",
        "         4.44787117e-02,  -1.43327380e+00,   1.82062288e+01])"
       ]
      }
     ],
     "prompt_number": 11
    },
    {
     "cell_type": "code",
     "collapsed": false,
     "input": [
      "numpy.diagonal(numpy.polyfit(x=atomic_numberL,y=rf_measuredL,deg=5,w=rf_measured_errorL,cov=True)[1])"
     ],
     "language": "python",
     "metadata": {},
     "outputs": [
      {
       "metadata": {},
       "output_type": "pyout",
       "prompt_number": 12,
       "text": [
        "array([  1.26434636e-16,   1.37122266e-11,   2.34107519e-07,\n",
        "         9.82594932e-04,   1.01342958e+00,   1.64327110e+02])"
       ]
      }
     ],
     "prompt_number": 12
    },
    {
     "cell_type": "code",
     "collapsed": false,
     "input": [
      "#Salvar em csv\n",
      "x1 = numpy.linspace(11,22,22-11+1)\n",
      "x2 = numpy.linspace(22,44,44-22+1)\n",
      "y1 = coefk1[3] + coefk1[2]*x1 + coefk1[1]*(x1**2) + coefk1[0]*(x1**3)\n",
      "y2 = coefk2[3] + coefk2[2]*x2 + coefk2[1]*(x2**2) + coefk2[0]*(x2**3)\n",
      "\n",
      "numpy.savetxt(\"saida.csv\",y1,delimiter=\",\")"
     ],
     "language": "python",
     "metadata": {},
     "outputs": [],
     "prompt_number": 13
    },
    {
     "cell_type": "code",
     "collapsed": false,
     "input": [
      "y1\n"
     ],
     "language": "python",
     "metadata": {},
     "outputs": [
      {
       "metadata": {},
       "output_type": "pyout",
       "prompt_number": 14,
       "text": [
        "array([ 0.00693796,  0.00044653, -0.00155128,  0.00063195,  0.00668363,\n",
        "        0.01629119,  0.02914203,  0.04492356,  0.06332321,  0.0840284 ,\n",
        "        0.10672653,  0.13110502])"
       ]
      }
     ],
     "prompt_number": 14
    },
    {
     "cell_type": "code",
     "collapsed": false,
     "input": [
      "x1"
     ],
     "language": "python",
     "metadata": {},
     "outputs": [
      {
       "metadata": {},
       "output_type": "pyout",
       "prompt_number": 78,
       "text": [
        "array([ 11.,  12.,  13.,  14.,  15.,  16.,  17.,  18.,  19.,  20.,  21.,\n",
        "        22.])"
       ]
      }
     ],
     "prompt_number": 78
    },
    {
     "cell_type": "code",
     "collapsed": false,
     "input": [],
     "language": "python",
     "metadata": {},
     "outputs": []
    }
   ],
   "metadata": {}
  }
 ]
}