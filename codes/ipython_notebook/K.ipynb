{
 "metadata": {
  "name": "K"
 },
 "nbformat": 3,
 "nbformat_minor": 0,
 "worksheets": [
  {
   "cells": [
    {
     "cell_type": "code",
     "collapsed": false,
     "input": [
      "import numpy\n",
      "from numpy.linalg import solve,inv\n",
      "import matplotlib.pyplot as plt"
     ],
     "language": "python",
     "metadata": {},
     "outputs": [],
     "prompt_number": 1
    },
    {
     "cell_type": "code",
     "collapsed": false,
     "input": [
      "#Carrega arquivo\n",
      "ponteiro = open(\"../inputData/2014abril/K.csv\",\"r\") \n",
      "#L\u00ea as linhas para um Array\n",
      "linhas = ponteiro.readlines()\n",
      "#Fecha arquivo\n",
      "ponteiro.close()"
     ],
     "language": "python",
     "metadata": {},
     "outputs": [],
     "prompt_number": 19
    },
    {
     "cell_type": "code",
     "collapsed": false,
     "input": [
      "#N\u00famero de pontos (desconsiderando o cabe\u00e7alho)\n",
      "len(linhas)-1"
     ],
     "language": "python",
     "metadata": {},
     "outputs": [
      {
       "output_type": "pyout",
       "prompt_number": 20,
       "text": [
        "24"
       ]
      }
     ],
     "prompt_number": 20
    },
    {
     "cell_type": "code",
     "collapsed": false,
     "input": [
      "#Transforma o array em numpy.array\n",
      "linhas = numpy.array(linhas)"
     ],
     "language": "python",
     "metadata": {},
     "outputs": [],
     "prompt_number": 21
    },
    {
     "cell_type": "code",
     "collapsed": false,
     "input": [
      "#Criar um numpy.array para cada uma das 3 colunas (Z, fator de respota e erro).\n",
      "#Pois, isso facilitar\u00e1 as facilitar\u00e1 \n",
      "Z = numpy.array([])\n",
      "Y = numpy.array([])\n",
      "Yerror = numpy.array([])\n"
     ],
     "language": "python",
     "metadata": {},
     "outputs": [],
     "prompt_number": 22
    },
    {
     "cell_type": "code",
     "collapsed": false,
     "input": [
      "#Desmembra o numpy.array linhas, nos 3 numpy.array criados acima.  \n",
      "for line in range(1,len(linhas)):\n",
      "    current_line = linhas[line].split(',')\n",
      "    Z = numpy.append(Z,float(current_line[0]))\n",
      "    Y = numpy.append(Y,float(current_line[1]))\n",
      "    Yerror = numpy.append(Yerror,float(current_line[2]))"
     ],
     "language": "python",
     "metadata": {},
     "outputs": [],
     "prompt_number": 23
    },
    {
     "cell_type": "code",
     "collapsed": false,
     "input": [
      "#define o grau do polin\u00f4mio que ajustaremos\n",
      "degree = 9"
     ],
     "language": "python",
     "metadata": {},
     "outputs": [],
     "prompt_number": 166
    },
    {
     "cell_type": "code",
     "collapsed": false,
     "input": [
      "#Cria uma matriz X da forma que cada linha seja refente ao elemento Z. \n",
      "#e cada coluna seja da forma [1 z z^2 z^3 ... z^n],\n",
      "#onde n \u00e9 o grau do polin\u00f4nio desejado.  \n",
      "X = numpy.vstack([Z**j for j in range(degree)]).T"
     ],
     "language": "python",
     "metadata": {},
     "outputs": [],
     "prompt_number": 167
    },
    {
     "cell_type": "code",
     "collapsed": false,
     "input": [
      "#Vari\u00e2ncia de Y, ou seja, uma matriz zerada, onde somente a diagonal \n",
      "# \u00e9 preenchida com o erro ao quadrado\n",
      "VY = numpy.zeros((len(Y),len(Y)),float)\n",
      "numpy.fill_diagonal(VY,Yerror**2)"
     ],
     "language": "python",
     "metadata": {},
     "outputs": [],
     "prompt_number": 168
    },
    {
     "cell_type": "code",
     "collapsed": false,
     "input": [
      "# Falta testar: Podemos usar as raizes quadradas da diagonal de VA para \n",
      "# comparar com a saida do polyfit com cov=True"
     ],
     "language": "python",
     "metadata": {},
     "outputs": [],
     "prompt_number": 169
    },
    {
     "cell_type": "code",
     "collapsed": false,
     "input": [
      "#Vari\u00e2ncia de A. \n",
      "VA = inv(numpy.dot(numpy.dot(X.T,inv(VY)),X)) \n",
      "\n",
      "#Coeficientes \"medido\"\n",
      "A = numpy.dot(numpy.dot(numpy.dot(VA,X.T),inv(VY)),Y)"
     ],
     "language": "python",
     "metadata": {},
     "outputs": [],
     "prompt_number": 170
    },
    {
     "cell_type": "code",
     "collapsed": false,
     "input": [
      "#A raiz quadrada dos elementos da diagonal de VA nos da os erros de A.\n",
      "numpy.sqrt(numpy.diagonal(VA))"
     ],
     "language": "python",
     "metadata": {},
     "outputs": [
      {
       "output_type": "pyout",
       "prompt_number": 171,
       "text": [
        "array([  1.78898991e+00,   7.37265699e-01,   1.28775273e-01,\n",
        "         1.24333746e-02,   7.25080359e-04,   2.61452852e-05,\n",
        "         5.69542318e-07,   6.86108073e-09,   3.50554443e-11])"
       ]
      }
     ],
     "prompt_number": 171
    },
    {
     "cell_type": "code",
     "collapsed": false,
     "input": [
      "#Agora que temos os coeficientes A do polin\u00f4mio, podemos calcular Fatores de Respostas \"Ajustados\"\n",
      "#Defini\u00e7\u00e3o do intervalo de Z que vamos ajustar (na pr\u00e1tica todos)\n",
      "Zadjusted = numpy.array(range(11,43)) "
     ],
     "language": "python",
     "metadata": {},
     "outputs": [],
     "prompt_number": 172
    },
    {
     "cell_type": "code",
     "collapsed": false,
     "input": [
      "#Cria uma matriz Xadjusted da forma que cada linha seja refente ao elemento Z considerados. \n",
      "#e cada coluna seja da forma [1 z z^2 z^3 ... z^n],\n",
      "#onde n \u00e9 o grau do polin\u00f4nio desejado.  \n",
      "Xadjusted = numpy.vstack([Zadjusted**j for j in range(degree)]).T"
     ],
     "language": "python",
     "metadata": {},
     "outputs": [],
     "prompt_number": 173
    },
    {
     "cell_type": "code",
     "collapsed": false,
     "input": [
      "#Fatores de Respostas Ajustados: Yadjusted\n",
      "Yadjusted = numpy.dot(Xadjusted,A)"
     ],
     "language": "python",
     "metadata": {},
     "outputs": [],
     "prompt_number": 174
    },
    {
     "cell_type": "code",
     "collapsed": false,
     "input": [
      "#C\u00e1lculo dos erros dos fatores de respostas, que \u00e9 a raiz quadrada dos elementos\n",
      "#da diagonal da matriz de covari\u00e2ncia de Yadjusted (CYadjusted)\n",
      "\n",
      "#matriz de covari\u00e2ncia de Yadjusted (CYadjusted)\n",
      "CYadjusted = numpy.dot(numpy.dot(Xadjusted,VA),Xadjusted.T)\n",
      "\n",
      "#Erros dos fatores de respostas ajustados\n",
      "YadjustedError =  numpy.sqrt(numpy.diagonal(CYadjusted))"
     ],
     "language": "python",
     "metadata": {},
     "outputs": [],
     "prompt_number": 175
    },
    {
     "cell_type": "code",
     "collapsed": false,
     "input": [
      "#Salvando os os fatores de resposta ajustado e erro em csv\n",
      "filecsv = numpy.vstack((Zadjusted.astype(int),Yadjusted,YadjustedError)).T\n",
      "numpy.savetxt(\"../outputs/K2014abril.csv\",filecsv,delimiter=\",\") #\\t for tab"
     ],
     "language": "python",
     "metadata": {},
     "outputs": [],
     "prompt_number": 176
    },
    {
     "cell_type": "code",
     "collapsed": false,
     "input": [
      "#Calculo do fator de resposta em um espa\u00e7o com mais pontos, para plotar gr\u00e1fico\n",
      "Zplot = numpy.linspace(11.,42.,600) \n",
      "Xplot = numpy.vstack([Zplot**j for j in range(degree)]).T\n",
      "Yplot = numpy.dot(Xplot,A)"
     ],
     "language": "python",
     "metadata": {},
     "outputs": [],
     "prompt_number": 177
    },
    {
     "cell_type": "code",
     "collapsed": false,
     "input": [
      "#Plotando gr\u00e1fico do Ajuste + dados experimentais\n",
      "#plt.figure(1)\n",
      "\n",
      "#Limpar workspace\n",
      "plt.clf()\n",
      "\n",
      "#Elemento no eixo X\n",
      "plt.xlim(5,50)\n",
      "\n",
      "#Colocando T\u00edtulo\n",
      "plt.title('Linha K')\n",
      "\n",
      "#Limites do eixo Y (eixo do fator de resposta)\n",
      "plt.ylim(min(Yadjusted)-0.05,max(Yadjusted)+0.05)\n",
      "\n",
      "#Plot dos pontos experimentais\n",
      "plt.plot(Z,Y,'bD')\n",
      "#colocar barras de erros nos pontos experimentais\n",
      "plt.errorbar(Z,Y,yerr=Yerror,ecolor='b',fmt=None)\n",
      "\n",
      "#Plot da curva ajustada\n",
      "plt.plot(Zplot,Yplot,'r-')\n",
      "\n",
      "#Configurando tamanho\n",
      "figure = plt.gcf() # get current figure\n",
      "figure.set_size_inches(8, 6)\n",
      "\n",
      "#Salvando\n",
      "plt.savefig(\"../outputs/K2014abril.png\", dpi = 100)"
     ],
     "language": "python",
     "metadata": {},
     "outputs": [
      {
       "output_type": "display_data",
       "png": "[encoded data removed]"
      }
     ],
     "prompt_number": 185
    },
    {
     "cell_type": "code",
     "collapsed": false,
     "input": [
      "#Porcentagem do erro ajustado\n",
      "(YadjustedError/Yadjusted)*100"
     ],
     "language": "python",
     "metadata": {},
     "outputs": [],
     "prompt_number": 135
    },
    {
     "cell_type": "markdown",
     "metadata": {},
     "source": [
      "Y and X were measured\n",
      "\n",
      "$[X]A=[Y]$\n",
      "\n",
      "We will adjust a A for equation above and call it \u00c3, but before we have to calculate the covariance of the coeficients $V_\u00c3$:\n",
      "\n",
      "$V_\u00c3 = (X^T V_Y^{-1} X)^{-1}$\n",
      "\n",
      "and\n",
      "\n",
      "$\u00c3 = V_\u00c3 X^T V_Y^{-1} Y$\n",
      "\n",
      "Now, we can calculate the new values of Y from $V_\u00c3$ to all atomic numbers in covered region $X_{adjusted}$:\n",
      "\n",
      "$[X_{adjusted}]\u00c3=[Y_{adjusted}]$\n",
      "\n",
      "The error desired is the square roots of diagonal of matrix covariance of Ycalculed $C_{Yadjusted}$.\n",
      "\n",
      "$C_{Y_{adjusted}} = X_{adjusted} V_\u00c3 X_{adjusted}^T$\n"
     ]
    }
   ],
   "metadata": {}
  }
 ]
}